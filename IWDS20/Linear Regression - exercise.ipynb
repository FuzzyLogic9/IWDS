{
  "cells": [
    {
      "metadata": {},
      "cell_type": "markdown",
      "source": "# IWDS20\n## Linear Regression: Tutorial"
    },
    {
      "metadata": {},
      "cell_type": "markdown",
      "source": "In statistics, regression analysis is a statistical process for estimating the relationships among variables...More specifically, regression analysis helps one understand how the typical value of the dependent variable (or criterion variable) changes when any one of the independent variables is varied, while the other independent variables are held fixed"
    },
    {
      "metadata": {},
      "cell_type": "markdown",
      "source": "Linear regression is an approach for predicting a quantitative response using a single feature (or predictor or input variable)."
    },
    {
      "metadata": {},
      "cell_type": "markdown",
      "source": "### Dataset\nWe are going to use the advertising dataset from \"An Introduction to Statistical Learning with Applications in R\" book. It is provided with the book code, and can also be downloaded from http://www-bcf.usc.edu/~gareth/ISL/data.html.\n\nYou can download it using the link above and then upload the csv file next to the notebook here."
    },
    {
      "metadata": {},
      "cell_type": "markdown",
      "source": "Import the Python libraries: pandas, matplotlib.pyplot"
    },
    {
      "metadata": {
        "trusted": true
      },
      "cell_type": "code",
      "source": "#your code",
      "execution_count": null,
      "outputs": []
    },
    {
      "metadata": {
        "trusted": true
      },
      "cell_type": "code",
      "source": "#uncomment the lines below once libraries are imported\n#%matplotlib inline\n#plt.style.use('seaborn-white')",
      "execution_count": null,
      "outputs": []
    },
    {
      "metadata": {},
      "cell_type": "markdown",
      "source": "* Let's load the csv file using pandas library into a dataframe called \"data\" and explore it a bit. \n* When loading use \"usecols\" parameter to only include the columns 1, 2, 3, 4 "
    },
    {
      "metadata": {
        "trusted": true
      },
      "cell_type": "code",
      "source": "#your code",
      "execution_count": null,
      "outputs": []
    },
    {
      "metadata": {},
      "cell_type": "markdown",
      "source": "Show a first few rows of the dataset, using function head()"
    },
    {
      "metadata": {
        "trusted": true
      },
      "cell_type": "code",
      "source": "#your code",
      "execution_count": null,
      "outputs": []
    },
    {
      "metadata": {},
      "cell_type": "markdown",
      "source": "Explore the dataset further by using methods dftypes, info(), shape"
    },
    {
      "metadata": {
        "trusted": true
      },
      "cell_type": "code",
      "source": "#your code",
      "execution_count": null,
      "outputs": []
    },
    {
      "metadata": {},
      "cell_type": "markdown",
      "source": "Plot the relationship between TV and sales columns using plot function"
    },
    {
      "metadata": {
        "trusted": true
      },
      "cell_type": "code",
      "source": "data.plot(kind='scatter', x='TV', y='sales', figsize=(10,5))",
      "execution_count": null,
      "outputs": []
    },
    {
      "metadata": {},
      "cell_type": "markdown",
      "source": "## Simple Linear Regression"
    },
    {
      "metadata": {},
      "cell_type": "markdown",
      "source": "Let's import the Python libraries that we might need to build a LinearRegression model (use sklearn library)\n"
    },
    {
      "metadata": {
        "trusted": true
      },
      "cell_type": "code",
      "source": "import sklearn.linear_model as skl_lm",
      "execution_count": null,
      "outputs": []
    },
    {
      "metadata": {},
      "cell_type": "markdown",
      "source": "Let's create an instance of the LinearRegression model"
    },
    {
      "metadata": {
        "trusted": true
      },
      "cell_type": "code",
      "source": "#your code",
      "execution_count": null,
      "outputs": []
    },
    {
      "metadata": {},
      "cell_type": "markdown",
      "source": "Let's define features X and a label Y. We are building a simple linear regression model, where we will use only one feature \"TV\" to predict label \"sales\". We will split data into training and test sets"
    },
    {
      "metadata": {
        "trusted": true
      },
      "cell_type": "code",
      "source": "features = ['TV']\nX = data[features]\ny = data.sales\n\nX_train, y_train = X[:150], y[:150]\nX_test, y_test = X[150:], y[150:]",
      "execution_count": null,
      "outputs": []
    },
    {
      "metadata": {},
      "cell_type": "markdown",
      "source": "Let's fit the data to the model"
    },
    {
      "metadata": {
        "trusted": true
      },
      "cell_type": "code",
      "source": "#your code",
      "execution_count": null,
      "outputs": []
    },
    {
      "metadata": {},
      "cell_type": "markdown",
      "source": "Let's explore the the intercept and coefficients of the model: [check here](https://scikit-learn.org/stable/modules/generated/sklearn.linear_model.LinearRegression.html). Use print function to get values for both"
    },
    {
      "metadata": {
        "trusted": true
      },
      "cell_type": "code",
      "source": "#your code",
      "execution_count": null,
      "outputs": []
    },
    {
      "metadata": {},
      "cell_type": "markdown",
      "source": "Let's use X_test data to generate our predictions (\"sales_pred\") by using method predict on our model"
    },
    {
      "metadata": {
        "trusted": true
      },
      "cell_type": "code",
      "source": "#your code",
      "execution_count": null,
      "outputs": []
    },
    {
      "metadata": {},
      "cell_type": "markdown",
      "source": "### Evaluation of our model"
    },
    {
      "metadata": {},
      "cell_type": "markdown",
      "source": "Let's explore a few metrics: \n* r2_score (Coefficient of determination) - a statistical measure of how close the data is to the fitted regression line. Best possible score is 1.0 and it can be negative (because the model can be arbitrarily worse). A constant model that always predicts the expected value of y, disregarding the input features, would get a r2score of 0.0. [more info](https://scikit-learn.org/stable/modules/generated/sklearn.metrics.r2_score.html)\n* MSE (Mean Squared error) - explore on your own\n* Variance score - explore on your own"
    },
    {
      "metadata": {
        "trusted": true
      },
      "cell_type": "code",
      "source": "from sklearn.metrics import r2_score, mean_squared_error",
      "execution_count": null,
      "outputs": []
    },
    {
      "metadata": {
        "trusted": true
      },
      "cell_type": "code",
      "source": "# The coefficients\nprint('Coefficients: \\n', list(zip(features, model.coef_)))\n\n# The mean squared error\nmse = 0 #replace with your code\nprint(\"Mean squared error: %.2f\" % mse)\n\n# Explained variance score: 1 is perfect prediction\nr2score = 0 #replace with your code\nprint('Variance score: %.2f' % r2score)",
      "execution_count": null,
      "outputs": []
    },
    {
      "metadata": {},
      "cell_type": "markdown",
      "source": "Plot \"TV vs sales\" (X_test, y_test) data and include our prediction results (sales_pred)"
    },
    {
      "metadata": {
        "trusted": true
      },
      "cell_type": "code",
      "source": "plt.scatter(X_test, y_test,  color='black')\nplt.plot(X_test, sales_pred, color='blue', linewidth=3)\n\nplt.xticks(())\nplt.yticks(())\n\nplt.show()",
      "execution_count": null,
      "outputs": []
    },
    {
      "metadata": {},
      "cell_type": "markdown",
      "source": "## [Optional]"
    },
    {
      "metadata": {},
      "cell_type": "markdown",
      "source": "If we have spare time - re-run solution but use all three features (['TV', 'radio', 'newspaper']) when creating a model\n"
    },
    {
      "metadata": {
        "trusted": true
      },
      "cell_type": "code",
      "source": "# Run the code below to compare the difference\nnew_features = ['TV', 'radio', 'newspaper']\nX = data[new_features]\ny = data.sales\n\nX_train, y_train = X[:150], y[:150]\nX_test, y_test = X[150:], y[150:]\n\nnew_model = skl_lm.LinearRegression()\nnew_model.fit(X_train, y_train)\nnew_sales_pred = new_model.predict(X_test)\n\n# The coefficients\nfc = zip(new_features, new_model.coef_)\nprint('Coefficients: \\n', list(fc))\n\n# The mean squared error\nmse = mean_squared_error(y_test, new_sales_pred)\nprint(\"Mean squared error: %.2f\" % mse)\n# Explained variance score: 1 is perfect prediction\nr2score = r2_score(y_test, new_sales_pred)\nprint('Variance score: %.2f' % r2score)",
      "execution_count": null,
      "outputs": []
    },
    {
      "metadata": {
        "trusted": true
      },
      "cell_type": "code",
      "source": "",
      "execution_count": null,
      "outputs": []
    }
  ],
  "metadata": {
    "kernelspec": {
      "name": "python36",
      "display_name": "Python 3.6",
      "language": "python"
    },
    "language_info": {
      "mimetype": "text/x-python",
      "nbconvert_exporter": "python",
      "name": "python",
      "pygments_lexer": "ipython3",
      "version": "3.6.6",
      "file_extension": ".py",
      "codemirror_mode": {
        "version": 3,
        "name": "ipython"
      }
    }
  },
  "nbformat": 4,
  "nbformat_minor": 2
}