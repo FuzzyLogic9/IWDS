{
  "cells": [
    {
      "metadata": {},
      "cell_type": "markdown",
      "source": "# IWDS20\n## Linear Regression: Tutorial (Solution)"
    },
    {
      "metadata": {},
      "cell_type": "markdown",
      "source": "In statistics, regression analysis is a statistical process for estimating the relationships among variables...More specifically, regression analysis helps one understand how the typical value of the dependent variable (or criterion variable) changes when any one of the independent variables is varied, while the other independent variables are held fixed."
    },
    {
      "metadata": {},
      "cell_type": "markdown",
      "source": "Linear regression is an approach for predicting a quantitative response using a single feature (or predictor or input variable)."
    },
    {
      "metadata": {},
      "cell_type": "markdown",
      "source": "### Dataset\nWe are going to use the advertising dataset from \"An Introduction to Statistical Learning with Applications in R\" book. It is provided with the book code, and can also be downloaded from http://www-bcf.usc.edu/~gareth/ISL/data.html.\n\nYou can download it using the link above and then upload the csv file next to the notebook here."
    },
    {
      "metadata": {},
      "cell_type": "markdown",
      "source": "Import the Python libraries "
    },
    {
      "metadata": {
        "trusted": true
      },
      "cell_type": "code",
      "source": "import pandas as pd\nimport numpy as np\nimport matplotlib.pyplot as plt\n\n%matplotlib inline\nplt.style.use('seaborn-white')",
      "execution_count": 1,
      "outputs": []
    },
    {
      "metadata": {},
      "cell_type": "markdown",
      "source": "Let's load the csv file using pandas library and explore it a bit. Use \"usecols\" parameter to only include the columns 1, 2, 3, 4 "
    },
    {
      "metadata": {
        "trusted": true
      },
      "cell_type": "code",
      "source": "data = pd.read_csv('Advertising.csv', usecols=[1,2,3,4])",
      "execution_count": 2,
      "outputs": []
    },
    {
      "metadata": {},
      "cell_type": "markdown",
      "source": "Show the first few rows of the dataset"
    },
    {
      "metadata": {
        "trusted": true
      },
      "cell_type": "code",
      "source": "data.head()",
      "execution_count": 3,
      "outputs": [
        {
          "output_type": "execute_result",
          "execution_count": 3,
          "data": {
            "text/html": "<div>\n<style scoped>\n    .dataframe tbody tr th:only-of-type {\n        vertical-align: middle;\n    }\n\n    .dataframe tbody tr th {\n        vertical-align: top;\n    }\n\n    .dataframe thead th {\n        text-align: right;\n    }\n</style>\n<table border=\"1\" class=\"dataframe\">\n  <thead>\n    <tr style=\"text-align: right;\">\n      <th></th>\n      <th>TV</th>\n      <th>radio</th>\n      <th>newspaper</th>\n      <th>sales</th>\n    </tr>\n  </thead>\n  <tbody>\n    <tr>\n      <th>0</th>\n      <td>230.1</td>\n      <td>37.8</td>\n      <td>69.2</td>\n      <td>22.1</td>\n    </tr>\n    <tr>\n      <th>1</th>\n      <td>44.5</td>\n      <td>39.3</td>\n      <td>45.1</td>\n      <td>10.4</td>\n    </tr>\n    <tr>\n      <th>2</th>\n      <td>17.2</td>\n      <td>45.9</td>\n      <td>69.3</td>\n      <td>9.3</td>\n    </tr>\n    <tr>\n      <th>3</th>\n      <td>151.5</td>\n      <td>41.3</td>\n      <td>58.5</td>\n      <td>18.5</td>\n    </tr>\n    <tr>\n      <th>4</th>\n      <td>180.8</td>\n      <td>10.8</td>\n      <td>58.4</td>\n      <td>12.9</td>\n    </tr>\n  </tbody>\n</table>\n</div>",
            "text/plain": "      TV  radio  newspaper  sales\n0  230.1   37.8       69.2   22.1\n1   44.5   39.3       45.1   10.4\n2   17.2   45.9       69.3    9.3\n3  151.5   41.3       58.5   18.5\n4  180.8   10.8       58.4   12.9"
          },
          "metadata": {}
        }
      ]
    },
    {
      "metadata": {},
      "cell_type": "markdown",
      "source": "Explore the dataset further by using methods dftypes, info(), shape"
    },
    {
      "metadata": {
        "trusted": true
      },
      "cell_type": "code",
      "source": "data.info()",
      "execution_count": 4,
      "outputs": [
        {
          "output_type": "stream",
          "text": "<class 'pandas.core.frame.DataFrame'>\nRangeIndex: 200 entries, 0 to 199\nData columns (total 4 columns):\nTV           200 non-null float64\nradio        200 non-null float64\nnewspaper    200 non-null float64\nsales        200 non-null float64\ndtypes: float64(4)\nmemory usage: 6.3 KB\n",
          "name": "stdout"
        }
      ]
    },
    {
      "metadata": {
        "trusted": true
      },
      "cell_type": "code",
      "source": "data.shape",
      "execution_count": 5,
      "outputs": [
        {
          "output_type": "execute_result",
          "execution_count": 5,
          "data": {
            "text/plain": "(200, 4)"
          },
          "metadata": {}
        }
      ]
    },
    {
      "metadata": {
        "trusted": true
      },
      "cell_type": "code",
      "source": "data.dtypes",
      "execution_count": 6,
      "outputs": [
        {
          "output_type": "execute_result",
          "execution_count": 6,
          "data": {
            "text/plain": "TV           float64\nradio        float64\nnewspaper    float64\nsales        float64\ndtype: object"
          },
          "metadata": {}
        }
      ]
    },
    {
      "metadata": {},
      "cell_type": "markdown",
      "source": "Plot the relationship between TV and sales columns using plot function"
    },
    {
      "metadata": {
        "trusted": true
      },
      "cell_type": "code",
      "source": "data.plot(kind='scatter', x='TV', y='sales', figsize=(10,5))",
      "execution_count": 7,
      "outputs": [
        {
          "output_type": "execute_result",
          "execution_count": 7,
          "data": {
            "text/plain": "<matplotlib.axes._subplots.AxesSubplot at 0x7fca57438860>"
          },
          "metadata": {}
        },
        {
          "output_type": "display_data",
          "data": {
            "image/png": "[encoded data removed]",
            "text/plain": "<Figure size 720x360 with 1 Axes>"
          },
          "metadata": {
            "needs_background": "light"
          }
        }
      ]
    },
    {
      "metadata": {},
      "cell_type": "markdown",
      "source": "## Simple Linear Regression"
    },
    {
      "metadata": {},
      "cell_type": "markdown",
      "source": "Let's import the Python libraries that we might need to build a LinearRegression model (use sklearn library)\n"
    },
    {
      "metadata": {
        "trusted": true
      },
      "cell_type": "code",
      "source": "import sklearn.linear_model as skl_lm",
      "execution_count": 8,
      "outputs": []
    },
    {
      "metadata": {},
      "cell_type": "markdown",
      "source": "Let's create an instance of the LinearRegression model"
    },
    {
      "metadata": {
        "trusted": true
      },
      "cell_type": "code",
      "source": "model = skl_lm.LinearRegression()",
      "execution_count": 9,
      "outputs": []
    },
    {
      "metadata": {},
      "cell_type": "markdown",
      "source": "Let's define features X and a label Y. We are building a simple linear regression model, where we will use only one feature \"TV\" to predict label \"sales\""
    },
    {
      "metadata": {
        "trusted": true
      },
      "cell_type": "code",
      "source": "features = ['TV']\nX = data[features]\ny = data.sales\n\nX_train, y_train = X[:150], y[:150]\nX_test, y_test = X[150:], y[150:]",
      "execution_count": 10,
      "outputs": []
    },
    {
      "metadata": {},
      "cell_type": "markdown",
      "source": "Let's fit the data to the model"
    },
    {
      "metadata": {
        "trusted": true
      },
      "cell_type": "code",
      "source": "model.fit(X_train, y_train)",
      "execution_count": 11,
      "outputs": [
        {
          "output_type": "execute_result",
          "execution_count": 11,
          "data": {
            "text/plain": "LinearRegression(copy_X=True, fit_intercept=True, n_jobs=1, normalize=False)"
          },
          "metadata": {}
        }
      ]
    },
    {
      "metadata": {},
      "cell_type": "markdown",
      "source": "Let's explore the the intercept and coefficients of the model"
    },
    {
      "metadata": {
        "trusted": true
      },
      "cell_type": "code",
      "source": "print(model.intercept_)\nprint(model.coef_)",
      "execution_count": 12,
      "outputs": [
        {
          "output_type": "stream",
          "text": "7.1107320844468545\n[0.04906288]\n",
          "name": "stdout"
        }
      ]
    },
    {
      "metadata": {},
      "cell_type": "markdown",
      "source": "Let's use X_test data to generate our predictions"
    },
    {
      "metadata": {
        "trusted": true
      },
      "cell_type": "code",
      "source": "sales_pred = model.predict(X_test)",
      "execution_count": 13,
      "outputs": []
    },
    {
      "metadata": {},
      "cell_type": "markdown",
      "source": "Let's explore a few metrics: \n* r2_score (Coefficient of determination) - a statistical measure of how close the data is to the fitted regression line. Best possible score is 1.0 and it can be negative (because the model can be arbitrarily worse). A constant model that always predicts the expected value of y, disregarding the input features, would get a r2score of 0.0. [more info](https://scikit-learn.org/stable/modules/generated/sklearn.metrics.r2_score.html)\n* MSE (Mean Squared error) - explore on your own\n* Variance score - explore on your own"
    },
    {
      "metadata": {
        "trusted": true
      },
      "cell_type": "code",
      "source": "from sklearn.metrics import r2_score, mean_squared_error",
      "execution_count": 14,
      "outputs": []
    },
    {
      "metadata": {
        "trusted": true
      },
      "cell_type": "code",
      "source": "# The coefficients\nfc = zip(features, model.coef_)\nprint('Coefficients: \\n', list(fc))\n\n# The mean squared error\nmse = mean_squared_error(y_test, sales_pred)\nprint(\"Mean squared error: %.2f\" % mse)\n# Explained variance score: 1 is perfect prediction\nr2score = r2_score(y_test, sales_pred)\nprint('Variance score: %.2f' % r2score)",
      "execution_count": 15,
      "outputs": [
        {
          "output_type": "stream",
          "text": "Coefficients: \n [('TV', 0.04906288039571124)]\nMean squared error: 13.17\nVariance score: 0.49\n",
          "name": "stdout"
        }
      ]
    },
    {
      "metadata": {
        "trusted": true
      },
      "cell_type": "code",
      "source": "# Plot outputs\nplt.scatter(X_test, y_test,  color='black')\nplt.plot(X_test, sales_pred, color='blue', linewidth=3)\n\nplt.xticks(())\nplt.yticks(())\n\nplt.show()",
      "execution_count": 16,
      "outputs": [
        {
          "output_type": "display_data",
          "data": {
            "image/png": "[encoded data removed]",
            "text/plain": "<Figure size 432x288 with 1 Axes>"
          },
          "metadata": {}
        }
      ]
    },
    {
      "metadata": {},
      "cell_type": "markdown",
      "source": "## [Optional]"
    },
    {
      "metadata": {},
      "cell_type": "markdown",
      "source": "If we have spare time - re-run solution but use all three features (['TV', 'radio', 'newspaper']) when creating a model\n"
    },
    {
      "metadata": {
        "trusted": true
      },
      "cell_type": "code",
      "source": "new_features = ['TV', 'radio', 'newspaper']\nX = data[new_features]\ny = data.sales\n\nX_train, y_train = X[:150], y[:150]\nX_test, y_test = X[150:], y[150:]\n\nnew_model = skl_lm.LinearRegression()\nnew_model.fit(X_train, y_train)\nnew_sales_pred = new_model.predict(X_test)\n\n# The coefficients\nfc = zip(new_features, new_model.coef_)\nprint('Coefficients: \\n', list(fc))\n\n# The mean squared error\nmse = mean_squared_error(y_test, new_sales_pred)\nprint(\"Mean squared error: %.2f\" % mse)\n# Explained variance score: 1 is perfect prediction\nr2score = r2_score(y_test, new_sales_pred)\nprint('Variance score: %.2f' % r2score)",
      "execution_count": 17,
      "outputs": [
        {
          "output_type": "stream",
          "text": "Coefficients: \n [('TV', 0.0470001192292681), ('radio', 0.17993257121158732), ('newspaper', -0.0014027331700707864)]\nMean squared error: 2.67\nVariance score: 0.90\n",
          "name": "stdout"
        }
      ]
    },
    {
      "metadata": {
        "trusted": true
      },
      "cell_type": "code",
      "source": "",
      "execution_count": null,
      "outputs": []
    }
  ],
  "metadata": {
    "kernelspec": {
      "name": "python36",
      "display_name": "Python 3.6",
      "language": "python"
    },
    "language_info": {
      "mimetype": "text/x-python",
      "nbconvert_exporter": "python",
      "name": "python",
      "pygments_lexer": "ipython3",
      "version": "3.6.6",
      "file_extension": ".py",
      "codemirror_mode": {
        "version": 3,
        "name": "ipython"
      }
    }
  },
  "nbformat": 4,
  "nbformat_minor": 2
}